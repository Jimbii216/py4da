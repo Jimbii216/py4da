{
 "cells": [
  {
   "cell_type": "code",
   "execution_count": 69,
   "metadata": {},
   "outputs": [],
   "source": [
    "import pandas as pd\n",
    "import numpy as np"
   ]
  },
  {
   "cell_type": "markdown",
   "metadata": {},
   "source": [
    "# Exercises\n",
    "\n",
    "Complete the following exercises. You will find all of the data for this chapter's exercises in `week 1/data/exercises`.\n",
    "\n",
    "You'll find that you will have to use some functions we haven't covered. When that's the case the link to the documentation will be included so you can explore the function yourself!"
   ]
  },
  {
   "cell_type": "markdown",
   "metadata": {},
   "source": [
    "1. Below are three Python lists. Create a pandas DataFrame named `df` with these three lists as the three columns of the `DataFrame`."
   ]
  },
  {
   "cell_type": "code",
   "execution_count": 70,
   "metadata": {},
   "outputs": [],
   "source": [
    "col1 = [x for x in range(15)]\n",
    "col2 = [f\"foo-{i}\" for i in range(15)]\n",
    "col3 = \"BAR\""
   ]
  },
  {
   "cell_type": "code",
   "execution_count": 71,
   "metadata": {},
   "outputs": [],
   "source": [
    "# TODO:\n",
    "# <Your Code Here>"
   ]
  },
  {
   "cell_type": "markdown",
   "metadata": {},
   "source": [
    "1b. Using the same `DataFrame`, add a column called `date` that is a range of dates starting at `2021-05-03`. (Hint: you can use the fundtion [`pd.date_range()`](https://pandas.pydata.org/docs/reference/api/pandas.date_range.html))"
   ]
  },
  {
   "cell_type": "code",
   "execution_count": 72,
   "metadata": {},
   "outputs": [],
   "source": [
    "# TODO:\n",
    "# <Your Code Here>"
   ]
  },
  {
   "cell_type": "markdown",
   "metadata": {},
   "source": [
    "1c. Now, use [`set_index()`](https://pandas.pydata.org/docs/reference/api/pandas.DataFrame.set_index.html) to set the `date` column as the index of the `DataFrame`"
   ]
  },
  {
   "cell_type": "code",
   "execution_count": 73,
   "metadata": {},
   "outputs": [],
   "source": [
    "# TODO:\n",
    "# <Your Code Here>"
   ]
  },
  {
   "cell_type": "markdown",
   "metadata": {},
   "source": [
    "2. Import the file `data/exercises/exercise12.csv` as a `DataFrame`.\n",
    "   * Remove all empty rows and columns (Hint: there is some junk in the first few rows)\n",
    "   * Check if there are any duplicated rows. If there are, remove them.\n",
    "\n",
    "\n",
    "(After you drop your duplicates, notice what happens to the index of the DataFrame...)"
   ]
  },
  {
   "cell_type": "code",
   "execution_count": 74,
   "metadata": {},
   "outputs": [],
   "source": [
    "# TODO:\n",
    "# <Your Code Here>"
   ]
  },
  {
   "cell_type": "markdown",
   "metadata": {},
   "source": [
    "3. Import the file `data/exercises/penguins.csv`\n",
    "   * Remove any empty rows and columns\n",
    "   * Check if there are any duplicated rows. If there are, remove them\n",
    "   * Inspect the `dtypes` of the dataframe. \n",
    "   * Remove all rows where there are no measurements in the measurement columns\n",
    "     * bill length\n",
    "     * bill depth\n",
    "     * flipper length\n",
    "     * body mass"
   ]
  },
  {
   "cell_type": "code",
   "execution_count": 75,
   "metadata": {},
   "outputs": [],
   "source": [
    "# TODO:\n",
    "# <Your Code Here>"
   ]
  },
  {
   "cell_type": "markdown",
   "metadata": {},
   "source": [
    "4. Using the dataframe you produced in 3:\n",
    "   * Filter the dataframe using `query()` to find only Male penguins\n",
    "   * Filter the dataframe using `.loc` to find only Female penguins\n",
    "   * Filter the dataframe using `isin` to find Chinstrap and Gentoo penguins"
   ]
  },
  {
   "cell_type": "code",
   "execution_count": 76,
   "metadata": {},
   "outputs": [],
   "source": [
    "# TODO:\n",
    "# <Your Code Here>"
   ]
  },
  {
   "cell_type": "markdown",
   "metadata": {},
   "source": [
    "5. Using the dataframe you produced in 3:\n",
    "   * Produce a dataframe that contains information on Female penguins living on Torgersen and Biscoe islands. \n",
    "   * Then, produce a column called `mass_flipper_ratio` that is the ratio of body mass / flipper length.\n",
    "   * Write your final dataset to a csv called `penguin_answers_week0.csv`"
   ]
  },
  {
   "cell_type": "code",
   "execution_count": 77,
   "metadata": {},
   "outputs": [],
   "source": [
    "# TODO:\n",
    "# <Your Code Here>"
   ]
  },
  {
   "cell_type": "markdown",
   "metadata": {},
   "source": [
    "6. ***BONUS*** Repeat numbers 3 and 5, but complete all steps in a single pipeline. i.e.:\n",
    "\n",
    "```\n",
    "pd.read_csv(...) \\\n",
    "    .method(...) \\\n",
    "    .method(...)\n",
    "```\n",
    "\n",
    "(Note you do not need to inspect the `dtypes` this time)\n"
   ]
  },
  {
   "cell_type": "code",
   "execution_count": 78,
   "metadata": {},
   "outputs": [],
   "source": [
    "# TODO:\n",
    "# <Your Code Here>"
   ]
  }
 ],
 "metadata": {
  "kernelspec": {
   "display_name": "venv",
   "language": "python",
   "name": "python3"
  },
  "language_info": {
   "codemirror_mode": {
    "name": "ipython",
    "version": 3
   },
   "file_extension": ".py",
   "mimetype": "text/x-python",
   "name": "python",
   "nbconvert_exporter": "python",
   "pygments_lexer": "ipython3",
   "version": "3.9.12"
  },
  "orig_nbformat": 4
 },
 "nbformat": 4,
 "nbformat_minor": 2
}
