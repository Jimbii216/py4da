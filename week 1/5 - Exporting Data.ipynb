{
 "cells": [
  {
   "cell_type": "markdown",
   "metadata": {},
   "source": [
    "# Exporting Data\n",
    "\n",
    "Exporting data in Pandas is very easy! Nearly every file type with a `read_` function has a `to_` equivalent.\n",
    "\n",
    "One important note is that pandas will automatically include the index when it writes out to a file. If you have manually set an index you will need to set `index_label = ` with your desired index column name. \n",
    "\n",
    "If you did not manually set an index then you probably don't want to include it in your output, so you should include the argument `index=False`"
   ]
  },
  {
   "cell_type": "code",
   "execution_count": 6,
   "metadata": {},
   "outputs": [],
   "source": [
    "%%script false --no-raise-error\n",
    "\n",
    "import pandas as pd\n",
    "import numpy as np\n",
    "\n",
    "dates = pd.date_range(start = \"2010-01-01\", periods=6)\n",
    "\n",
    "df = pd.DataFrame(np.random.randn(6,4))\n",
    "df.to_csv('out.csv', index=False)\n",
    "\n",
    "\n",
    "df_index = pd.DataFrame(np.random.rand(6,4), index=dates)\n",
    "df_index.to_csv('out.csv', index_label='date')"
   ]
  }
 ],
 "metadata": {
  "kernelspec": {
   "display_name": "venv",
   "language": "python",
   "name": "python3"
  },
  "language_info": {
   "codemirror_mode": {
    "name": "ipython",
    "version": 3
   },
   "file_extension": ".py",
   "mimetype": "text/x-python",
   "name": "python",
   "nbconvert_exporter": "python",
   "pygments_lexer": "ipython3",
   "version": "3.9.12"
  },
  "orig_nbformat": 4
 },
 "nbformat": 4,
 "nbformat_minor": 2
}
