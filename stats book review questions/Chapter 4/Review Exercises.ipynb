{
 "cells": [
  {
   "cell_type": "markdown",
   "id": "d8399d78",
   "metadata": {},
   "source": [
    "#  Chapter Four Review Exercises"
   ]
  },
  {
   "cell_type": "code",
   "execution_count": 11,
   "id": "dc5c1266",
   "metadata": {},
   "outputs": [],
   "source": [
    "import pandas as pd\n",
    "import numpy as np\n"
   ]
  },
  {
   "cell_type": "markdown",
   "id": "0007a40c",
   "metadata": {},
   "source": [
    "#### #1a.) Find the average and SD of the list: 41, 48, 50, 50, 54, 57."
   ]
  },
  {
   "cell_type": "code",
   "execution_count": 5,
   "id": "a5989973",
   "metadata": {},
   "outputs": [
    {
     "name": "stdout",
     "output_type": "stream",
     "text": [
      "The average is 50.0!\n"
     ]
    }
   ],
   "source": [
    "data = [41, 48, 50, 50, 54, 57]\n",
    "\n",
    "avg = sum(data) / len(data)\n",
    "avg = str(avg)\n",
    "print('The average is ' + avg + '!')"
   ]
  },
  {
   "cell_type": "code",
   "execution_count": 10,
   "id": "c8e58c56",
   "metadata": {},
   "outputs": [
    {
     "name": "stdout",
     "output_type": "stream",
     "text": [
      "The standard deviation is 5.5!\n"
     ]
    }
   ],
   "source": [
    "series = pd.Series(data)\n",
    "\n",
    "sd = series.std()\n",
    "sd = round(sd, 1)\n",
    "sd = str(sd)\n",
    "\n",
    "print('The standard deviation is ' + sd + '!')"
   ]
  },
  {
   "cell_type": "markdown",
   "id": "0eb7e349",
   "metadata": {},
   "source": [
    "#### #1b.) Which numbers on the list are within 0.5 SDs of average? within 1.5 SD of the average?"
   ]
  },
  {
   "cell_type": "markdown",
   "id": "3aa63791",
   "metadata": {},
   "source": [
    "ata = [1, 5, 8, 12, 12, 13, 19, 28]\n",
    "mean = np.mean(data)\n",
    "std_dev = np.std(data)\n",
    "\n",
    "within_sd = [x for x in data if mean - std_dev <= x <= mean + std_dev]\n",
    "print(within_sd)\n"
   ]
  },
  {
   "cell_type": "code",
   "execution_count": null,
   "id": "cf1e5998",
   "metadata": {},
   "outputs": [
    {
     "name": "stdout",
     "output_type": "stream",
     "text": [
      "The numbers that are within 0.5 standard deviations are:\n",
      "[48, 50, 50]\n",
      "\n",
      "The numbers that are within 0.5 standard deviations are:\n",
      "[48, 50, 50, 54, 57]\n",
      "\n"
     ]
    }
   ],
   "source": [
    "mean = np.mean(data)\n",
    "sd = np.std(data)\n",
    "\n",
    "within_sd = [x for x in data if mean - (sd * 0.5) <= x <= mean + (sd *0.5)]\n",
    "\n",
    "print('The numbers that are within 0.5 standard deviations are:')\n",
    "print(within_sd)\n",
    "print()\n",
    "\n",
    "within_sd = [x for x in data if mean - (sd * 1.5) <= x <= mean + (sd * 1.5)]\n",
    "\n",
    "print('The numbers that are within 1.5 standard deviations are:')\n",
    "print(within_sd)\n",
    "print()"
   ]
  },
  {
   "cell_type": "markdown",
   "id": "5a33bcca",
   "metadata": {},
   "source": []
  }
 ],
 "metadata": {
  "kernelspec": {
   "display_name": "base",
   "language": "python",
   "name": "python3"
  },
  "language_info": {
   "codemirror_mode": {
    "name": "ipython",
    "version": 3
   },
   "file_extension": ".py",
   "mimetype": "text/x-python",
   "name": "python",
   "nbconvert_exporter": "python",
   "pygments_lexer": "ipython3",
   "version": "3.9.7"
  }
 },
 "nbformat": 4,
 "nbformat_minor": 5
}
