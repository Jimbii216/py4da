{
 "cells": [
  {
   "cell_type": "markdown",
   "id": "d8399d78",
   "metadata": {},
   "source": [
    "#  Chapter Four Review Exercises"
   ]
  },
  {
   "cell_type": "code",
   "execution_count": 11,
   "id": "dc5c1266",
   "metadata": {},
   "outputs": [],
   "source": [
    "import pandas as pd\n",
    "import numpy as np\n"
   ]
  },
  {
   "cell_type": "markdown",
   "id": "0007a40c",
   "metadata": {},
   "source": [
    "#### #1a.) Find the average and SD of the list: 41, 48, 50, 50, 54, 57."
   ]
  },
  {
   "cell_type": "code",
   "execution_count": 5,
   "id": "a5989973",
   "metadata": {},
   "outputs": [
    {
     "name": "stdout",
     "output_type": "stream",
     "text": [
      "The average is 50.0!\n"
     ]
    }
   ],
   "source": [
    "data = [41, 48, 50, 50, 54, 57]\n",
    "\n",
    "avg = sum(data) / len(data)\n",
    "avg = str(avg)\n",
    "print('The average is ' + avg + '!')"
   ]
  },
  {
   "cell_type": "code",
   "execution_count": null,
   "id": "c8e58c56",
   "metadata": {},
   "outputs": [
    {
     "name": "stdout",
     "output_type": "stream",
     "text": [
      "The standard deviation is 5.5!\n"
     ]
    }
   ],
   "source": [
    "series = pd.Series(data)\n",
    "\n",
    "sd = series.std()\n",
    "sd = round(sd, 1)\n",
    "sd = str(sd)\n",
    "\n",
    "print('The standard deviation is ' + sd + '!')"
   ]
  },
  {
   "cell_type": "markdown",
   "id": "0eb7e349",
   "metadata": {},
   "source": [
    "#### #1b.) Which numbers on the list are within 0.5 SDs of average? within 1.5 SD of the average?"
   ]
  },
  {
   "cell_type": "markdown",
   "id": "3aa63791",
   "metadata": {},
   "source": [
    "ata = [1, 5, 8, 12, 12, 13, 19, 28]\n",
    "mean = np.mean(data)\n",
    "std_dev = np.std(data)\n",
    "\n",
    "within_sd = [x for x in data if mean - std_dev <= x <= mean + std_dev]\n",
    "print(within_sd)\n"
   ]
  },
  {
   "cell_type": "code",
   "execution_count": null,
   "id": "cf1e5998",
   "metadata": {},
   "outputs": [
    {
     "name": "stdout",
     "output_type": "stream",
     "text": [
      "The numbers that are within 0.5 standard deviations are:\n",
      "[48, 50, 50]\n",
      "\n",
      "The numbers that are within 0.5 standard deviations are:\n",
      "[48, 50, 50, 54, 57]\n",
      "\n"
     ]
    }
   ],
   "source": [
    "mean = np.mean(data)\n",
    "sd = np.std(data)\n",
    "\n",
    "within_sd = [x for x in data if mean - (sd * 0.5) <= x <= mean + (sd *0.5)]\n",
    "\n",
    "print('The numbers that are within 0.5 standard deviations are:')\n",
    "print(within_sd)\n",
    "print()\n",
    "\n",
    "within_sd = [x for x in data if mean - (sd * 1.5) <= x <= mean + (sd * 1.5)]\n",
    "\n",
    "print('The numbers that are within 1.5 standard deviations are:')\n",
    "print(within_sd)\n",
    "print()"
   ]
  },
  {
   "cell_type": "markdown",
   "id": "5a33bcca",
   "metadata": {},
   "source": [
    "#### #2a.) Both of the following lists have the same average of 50.Which one has the smaller SD, and why? No computations necessary."
   ]
  },
  {
   "cell_type": "markdown",
   "id": "097fb008",
   "metadata": {},
   "source": [
    "##### (i.) 50, 40, 60, 30, 70, 25, 75\n",
    "\n",
    "##### (ii.) 50, 40, 60, 20, 70, 25, 75, 50, 50, 50\n",
    "\n",
    "The list that has the smaller SD is list (ii.). The last three entries of [50, 50, 50] reduces the overall spread of the list."
   ]
  },
  {
   "cell_type": "markdown",
   "id": "c4e2186c",
   "metadata": {},
   "source": [
    "#### #2b.) Repeat, for thew following two lists."
   ]
  },
  {
   "cell_type": "markdown",
   "id": "f162b03d",
   "metadata": {},
   "source": [
    "##### (i.) 50, 40, 60, 30, 70, 25, 75\n",
    "\n",
    "##### (ii.) 50, 40, 60, 20, 70, 25, 75, 99, 1\n",
    "\n",
    "The list that has the smaller SD is list (1.). The lasst two entries of [99, 1] drastically increase the spread of the list. "
   ]
  },
  {
   "cell_type": "markdown",
   "id": "5b63a0a9",
   "metadata": {},
   "source": [
    "#### #3.) Here is a list of numbers.\n",
    "\n",
    "[0.7, 1.6, 9.8, 3.2, 5.4, 0.8, 7.7, 6.3, 2.2, 4.1,\n",
    " 8.1, 6.5, 3.7, 0.6, 6.9, 9.9, 8.8, 3.1, 5.7, 9.1]"
   ]
  },
  {
   "cell_type": "markdown",
   "id": "e6451e87",
   "metadata": {},
   "source": [
    "##### a.) Without doing any arithmetic, guess whether the average is around 1, 5, or 10\n",
    "\n",
    "The average is around 5.\n",
    "\n",
    "##### b.) Without doing any arithmetic, guess whether the SD is around 1, 3, or 6.\n",
    "\n",
    "The SD is around 3."
   ]
  },
  {
   "cell_type": "markdown",
   "id": "81e0e713",
   "metadata": {},
   "source": [
    "#### 4.) For persons age 25 and over in the U.S., would the average or the median be higher for income?\n",
    "\n",
    "The average would be higher than the median because more people would make lower incomes than extremely high incomes which would skew the average.\n",
    "\n",
    "#### For years of schooling completed\n",
    "\n",
    "Years of schooling would also have an average higher than the median."
   ]
  },
  {
   "cell_type": "markdown",
   "id": "5f4c5e8c",
   "metadata": {},
   "source": [
    "#### #8.) In the HANES5 sample, the average height of the boys was 137 cm at age 9 and 151 cm at age 11. At age 11, the average height of all the children was 151 cm.\n",
    "\n",
    "##### a.) On the average, are boys taller than girls at age 11?\n",
    "\n",
    "No, boys and girls are about the same height at age 11.\n",
    "\n",
    "##### b.) Guess the average height of the 10-year-old boys.\n",
    "\n",
    "10-year-old boys should be about 144 cm on average.\n",
    "\n"
   ]
  },
  {
   "cell_type": "markdown",
   "id": "5e9ea4ce",
   "metadata": {},
   "source": [
    "#### #9.) An investigatior has a computer file showing family incomes for 1,000 subjects in a certain study. These range from $5,800 a year to #98,600 a year. By accident, the highest income in the file gets changed to $986,000.\n",
    "\n",
    "##### a.) Does this affect the average? If so, by how much?\n",
    "\n",
    "This would bring up the average by quite a bit.\n",
    "\n",
    "##### b.)  Does this affect the median? If so, by how much?\n",
    "\n",
    "This would raise the median but by very little."
   ]
  },
  {
   "cell_type": "markdown",
   "id": "5766ff5f",
   "metadata": {},
   "source": [
    "#### #10.) Incoming students at a certain law school have an average LSAT (Law School Aptitude Test) score of 163 and an SD of 8. Tomorrow, one of these students will be picked at random. You have to guess the score now; the guess will be compared with the actual score, to see how far off it is. Each point off will cost a dollar (For example, if the guess is 158 and the schore is really 151, you will have to pay $7.)\n",
    "\n",
    "##### a.) Is the best guess 150,. 163, or 170?\n",
    "\n",
    "163 would be the best guess.\n",
    "\n",
    "##### b.) You have about 1 chance in 3 to lose more than _______. Fill in the blank. Options: $1, $8, or $20.\n",
    "\n",
    "$8."
   ]
  },
  {
   "cell_type": "markdown",
   "id": "a7d13471",
   "metadata": {},
   "source": []
  }
 ],
 "metadata": {
  "kernelspec": {
   "display_name": "base",
   "language": "python",
   "name": "python3"
  },
  "language_info": {
   "codemirror_mode": {
    "name": "ipython",
    "version": 3
   },
   "file_extension": ".py",
   "mimetype": "text/x-python",
   "name": "python",
   "nbconvert_exporter": "python",
   "pygments_lexer": "ipython3",
   "version": "3.9.7"
  }
 },
 "nbformat": 4,
 "nbformat_minor": 5
}
