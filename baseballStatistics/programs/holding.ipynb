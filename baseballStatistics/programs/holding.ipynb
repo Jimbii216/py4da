{
 "cells": [
  {
   "cell_type": "markdown",
   "id": "d0b05f6a",
   "metadata": {},
   "source": [
    "# dfAllData"
   ]
  },
  {
   "cell_type": "markdown",
   "id": "fd9765dd",
   "metadata": {},
   "source": [
    "year = '2024'\n",
    "\n",
    "stats = []\n",
    "for row in allPlayers['Player ID']:\n",
    "      response = statsapi.player_stat_data(row, group = 'hitting', type = 'yearByYear', sportId = 1)\n",
    "      stats.append(response)\n",
    "\n",
    "dfStats = pd.DataFrame(stats)\n",
    "dfStats = pd.merge(dfStats, dfStats['stats'].apply(pd.Series), left_index = True, right_index = True).drop(columns = 'stats')\n",
    "\n",
    "dfStats.rename({0:'stats'},axis='columns',inplace=True)\n",
    "dfStats = dfStats.join(pd.json_normalize(dfStats['stats']))"
   ]
  },
  {
   "cell_type": "code",
   "execution_count": null,
   "id": "4aee4e98",
   "metadata": {},
   "outputs": [],
   "source": [
    "dfStats"
   ]
  },
  {
   "cell_type": "code",
   "execution_count": null,
   "id": "77e855f2",
   "metadata": {},
   "outputs": [],
   "source": [
    "#dfStats = pd.merge(dfStats, dfStats['stats'].apply(pd.Series), left_index = True, right_index = True).drop(columns = 'stats')\n",
    "#dfStats = pd.merge(dfStats, dfStats['stats_x'].apply(pd.Series), left_index = True, right_index = True).drop(columns = 'stats_x')\n",
    "dfStats = pd.merge(dfStats, dfStats['1'].apply(pd.Series), left_index = True, right_index = True).drop(columns = '1')"
   ]
  },
  {
   "cell_type": "code",
   "execution_count": null,
   "id": "6740cace",
   "metadata": {},
   "outputs": [],
   "source": [
    "dfStats.to_excel('MLB Batting Data 2024.xlsx', sheet_name='allData')"
   ]
  },
  {
   "cell_type": "code",
   "execution_count": null,
   "id": "6a8e5bab",
   "metadata": {},
   "outputs": [],
   "source": [
    "res = list(dfStats.columns)\n",
    "print(res)"
   ]
  },
  {
   "cell_type": "code",
   "execution_count": null,
   "id": "af5f2a86",
   "metadata": {},
   "outputs": [],
   "source": [
    "names = []\n",
    "\n",
    "for player in statsapi.lookup_player('2024'):\n",
    "    names.append(player)\n",
    "    #print(names)\n",
    "dfNames = pd.DataFrame(names)\n",
    "\n",
    "dfNames = dfNames.drop(['primaryNumber', 'currentTeam' , 'useName', 'boxscoreName',\n",
    "                       'nickName', 'mlbDebutDate', 'nameSlug', 'firstLastName', 'lastFirstName', 'lastInitName',\n",
    "                       'initLastName', 'fullFMLName', 'fullLFMName', 'nameFirstLast'], axis=1)\n",
    "\n",
    "\n",
    "index_position = dfNames[dfNames['primaryPosition'] == {'code': '1', 'abbreviation': 'P'}].index\n",
    "dfNames.drop(index_position, inplace = True) \n",
    "\n",
    "dfNames = dfNames.rename(columns = {'id':'Player ID', 'fullName':'Full Name', 'firstName':'First Name', 'lastName':'Last Name'}).drop(columns = 'primaryPosition')\n",
    "dfNames = dfNames[['Player ID', 'First Name', 'Last Name', 'Full Name']]"
   ]
  },
  {
   "cell_type": "markdown",
   "id": "15d60fd8",
   "metadata": {},
   "source": [
    "All players by Selected Statistic (Batting Average)"
   ]
  },
  {
   "cell_type": "code",
   "execution_count": null,
   "id": "59c753c1",
   "metadata": {},
   "outputs": [],
   "source": [
    "dfNames\n",
    "#index_position"
   ]
  },
  {
   "cell_type": "code",
   "execution_count": null,
   "id": "46f2f961",
   "metadata": {},
   "outputs": [],
   "source": [
    "year = '2024'\n",
    "\n",
    "stats = []\n",
    "for row in dfNames['Player ID']:\n",
    "      response = statsapi.player_stat_data(row, group = 'hitting', type = 'yearByYear', sportId = 1)\n",
    "      stats.append(response)\n",
    "\n",
    "dfStats = pd.DataFrame(stats)\n",
    "dfStats = pd.merge(dfStats, dfStats['stats'].apply(pd.Series), left_index = True, right_index = True).drop(columns = 'stats')\n",
    "\n",
    "dfStats.rename({0:'stats'},axis='columns',inplace=True)\n",
    "dfStats = dfStats.join(pd.json_normalize(dfStats['stats']))\n",
    "\n",
    "# dfStats = dfStats.drop(['active', 'last_played', 'season', 'mlb_debut', 'nickname', 'pitch_hand', 'stats', 'type', 'group'\n",
    "#                         , 'stats.gamesPlayed', 'stats.groundOuts', 'stats.airOuts', 'stats.runs', 'stats.doubles' \n",
    "#                         , 'stats.triples',\t'stats.homeRuns', 'stats.strikeOuts', 'stats.baseOnBalls', 'stats.intentionalWalks'\n",
    "#                         , 'stats.hits', 'stats.hitByPitch', 'stats.atBats', 'stats.obp', 'stats.slg', 'stats.ops', 'stats.caughtStealing'\n",
    "#                         , 'stats.totalBases', 'stats.rbi', 'stats.leftOnBase', 'stats.sacBunts', 'stats.sacFlies', 'stats.babip'\n",
    "#                         , 'stats.groundOutsToAirouts', 'stats.catchersInterference', 'stats.atBatsPerHomeRun', 'stats.stolenBases'\n",
    "#                         , 'stats.stolenBasePercentage', 'stats.groundIntoDoublePlay', 'stats.numberOfPitches'], axis=1)\n",
    "\n",
    "# dfStats = dfStats.rename(columns = {'id':'Player ID','first_name':'First Name', 'last_name':'Last Name'\n",
    "#                                     , 'current_team':'Team', 'position':'Position', 'bat_side':'Batting Side'\n",
    "#                                     , 'stats.avg':'Batting Average', 'stats.plateAppearances':'Plate Appearances'})\n",
    "\n",
    "# dfStats = dfStats.rename(columns = {1:'1',2:'2'}).drop(columns = '1')\n",
    "# dfStats = dfStats.drop(columns = '2')"
   ]
  },
  {
   "cell_type": "code",
   "execution_count": null,
   "id": "bfd230d2",
   "metadata": {},
   "outputs": [],
   "source": [
    "dfStats"
   ]
  },
  {
   "cell_type": "markdown",
   "id": "148f92a0",
   "metadata": {},
   "source": [
    "Analysis - Isolating for chosen Statistic (batting average)"
   ]
  },
  {
   "cell_type": "code",
   "execution_count": null,
   "id": "4501fe13",
   "metadata": {},
   "outputs": [],
   "source": [
    "dfAvg = pd.DataFrame(dfStats)\n",
    "dfAvg = dfAvg.drop(['Team', 'Position', 'Batting Side'], axis = 1)\n",
    "\n",
    "index_names = dfAvg[ dfAvg['Plate Appearances'] < 100].index \n",
    "  \n",
    "# drop these row indexes \n",
    "# from dataFrame \n",
    "dfAvg.drop(index_names, inplace = True) \n",
    "  \n",
    "dfAvg \n",
    "\n",
    "#qualAvg = pd.DataFrame(dfAvg)\n",
    "#qual = dfAvg[dfAvg['Plate Appearances'] < 100].index\n",
    "\n",
    "#qualAvg = dfAvg.drop(qual, inplace = True) "
   ]
  }
 ],
 "metadata": {
  "kernelspec": {
   "display_name": "base",
   "language": "python",
   "name": "python3"
  },
  "language_info": {
   "name": "python",
   "version": "3.9.7"
  }
 },
 "nbformat": 4,
 "nbformat_minor": 5
}
