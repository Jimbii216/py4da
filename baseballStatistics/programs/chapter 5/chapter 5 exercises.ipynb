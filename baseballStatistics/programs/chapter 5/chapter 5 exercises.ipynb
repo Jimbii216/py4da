{
 "cells": [
  {
   "cell_type": "markdown",
   "id": "423ea7b0",
   "metadata": {},
   "source": [
    "## Here are the exercises in Chapter Five of the Statistics Textbook"
   ]
  },
  {
   "cell_type": "markdown",
   "id": "bd84b6c3",
   "metadata": {},
   "source": [
    "### Exercise Set A"
   ]
  },
  {
   "cell_type": "markdown",
   "id": "4fdba1fb",
   "metadata": {},
   "source": [
    "#### #1.)  On a certain exam, the average of the scores was 50 and the SD was 10.\n",
    "a.) Convert each of the following scores to standar units: 60, 45, 75."
   ]
  },
  {
   "cell_type": "code",
   "execution_count": 5,
   "id": "3b335e65",
   "metadata": {},
   "outputs": [
    {
     "name": "stdout",
     "output_type": "stream",
     "text": [
      "The standard unit for 60 is 1.0 .\n",
      "The standard unit for 45 is -0.5 .\n",
      "The standard unit for 75 is 2.5 .\n"
     ]
    }
   ],
   "source": [
    "avg = 50\n",
    "sd = 10\n",
    "x = 60\n",
    "\n",
    "standardUnit = ((x-avg)/sd)\n",
    "print('The standard unit for', x, 'is', standardUnit, '.')\n",
    "\n",
    "x = 45\n",
    "\n",
    "standardUnit = ((x-avg)/sd)\n",
    "print('The standard unit for', x, 'is', standardUnit, '.')\n",
    "\n",
    "x = 75\n",
    "\n",
    "standardUnit = ((x-avg)/sd)\n",
    "print('The standard unit for', x, 'is', standardUnit, '.')"
   ]
  },
  {
   "cell_type": "markdown",
   "id": "505174cd",
   "metadata": {},
   "source": [
    "#### #1.)  On a certain exam, the average of the scores was 50 and the SD was 10.\n",
    "b.) Find the scores which in the standard units are: 0, +1.5, -2.8."
   ]
  },
  {
   "cell_type": "code",
   "execution_count": 7,
   "id": "2010a359",
   "metadata": {},
   "outputs": [
    {
     "name": "stdout",
     "output_type": "stream",
     "text": [
      "The score for standard unit 0 is 50 .\n",
      "The score for standard unit 1.5 is 65.0 .\n",
      "The score for standard unit -2.8 is 22.0 .\n"
     ]
    }
   ],
   "source": [
    "avg= 50\n",
    "sd = 10\n",
    "standardUnit = 0\n",
    "\n",
    "score = (standardUnit * sd) + avg\n",
    "print('The score for standard unit', standardUnit, 'is', score, '.')  \n",
    "\n",
    "standardUnit = 1.5\n",
    "\n",
    "score = (standardUnit * sd) + avg\n",
    "print('The score for standard unit', standardUnit, 'is', score, '.')\n",
    "\n",
    "standardUnit = -2.8\n",
    "\n",
    "score = (standardUnit * sd) + avg\n",
    "print('The score for standard unit', standardUnit, 'is', score, '.')"
   ]
  },
  {
   "cell_type": "markdown",
   "id": "dd9ace2b",
   "metadata": {},
   "source": [
    "#### #2.)  a.) Convert each entry on the following list to standard units (that is, using the average and SD of the list): 13, 9, 11, 7, 10."
   ]
  },
  {
   "cell_type": "code",
   "execution_count": 20,
   "id": "e942f76c",
   "metadata": {},
   "outputs": [
    {
     "name": "stdout",
     "output_type": "stream",
     "text": [
      "The average is 10.0 .\n",
      "The standard deviation is 2.24 .\n",
      "The standard unit for 13 is 1.34 .\n",
      "[1.34]\n",
      "The standard unit for 9 is -0.45 .\n",
      "[1.34, -0.45]\n",
      "The standard unit for 11 is 0.45 .\n",
      "[1.34, -0.45, 0.45]\n",
      "The standard unit for 7 is -1.34 .\n",
      "[1.34, -0.45, 0.45, -1.34]\n",
      "The standard unit for 10 is 0.0 .\n",
      "[1.34, -0.45, 0.45, -1.34, 0.0]\n"
     ]
    }
   ],
   "source": [
    "import statistics as stats\n",
    "\n",
    "list = [13, 9, 11, 7, 10]\n",
    "n = len(list)\n",
    "avg = sum(list) / len(list)\n",
    "print('The average is', avg, '.')\n",
    "\n",
    "sd = round(stats.stdev(list),2)\n",
    "print('The standard deviation is', sd, '.')\n",
    "\n",
    "list2 = []\n",
    "for x in list:\n",
    "    standardUnit = round(((x-avg)/sd), 2)\n",
    "    list2.append(standardUnit)\n",
    "    print('The standard unit for', x, 'is', round(standardUnit,2), '.')\n",
    "    print(list2)"
   ]
  },
  {
   "cell_type": "markdown",
   "id": "20ec3a13",
   "metadata": {},
   "source": [
    "#### #2.)  b.) Find the average and the SD of the converted list."
   ]
  },
  {
   "cell_type": "code",
   "execution_count": 21,
   "id": "55ab8bd5",
   "metadata": {},
   "outputs": [
    {
     "name": "stdout",
     "output_type": "stream",
     "text": [
      "The average of the converted list is 0.0 .\n",
      "The standard deviation of the converted list is 1.0 .\n"
     ]
    }
   ],
   "source": [
    "n2 = len(list2)\n",
    "avg2 = sum(list2) / len(list2)\n",
    "\n",
    "print( 'The average of the converted list is', round(avg2,2), '.')\n",
    "print('The standard deviation of the converted list is', round(stats.stdev(list2),2), '.' )"
   ]
  },
  {
   "cell_type": "markdown",
   "id": "35a5615b",
   "metadata": {},
   "source": [
    "### Exercise Set B"
   ]
  },
  {
   "cell_type": "markdown",
   "id": "41f1b909",
   "metadata": {},
   "source": [
    "#### #1.)  Find the area under the normal curve"
   ]
  },
  {
   "cell_type": "code",
   "execution_count": 10,
   "id": "7932e796",
   "metadata": {},
   "outputs": [
    {
     "name": "stdout",
     "output_type": "stream",
     "text": [
      "#a.) The area to the right of 1.25 is 10.56 %.\n",
      "#b.) The area to the left of -0.4 is 34.46 %.\n",
      "#c.) The area to the left of 0.8 is 78.81 %.\n",
      "#d.) The area between 0.4 and 1.3 is 24.78 %.\n",
      "#e.) The area between -0.3 and 0.9 is 43.38 %.\n",
      "#f.) The area outside -1.5 to 1.5 is 13.36 %.\n"
     ]
    }
   ],
   "source": [
    "# a.) to the right of 1.25\n",
    "\n",
    "z = 1.25\n",
    "area = 78.87\n",
    "\n",
    "areaOutside = 100 - 78.87\n",
    "areaRight = areaOutside / 2\n",
    "\n",
    "print('#a.) The area to the right of', z, 'is', round(areaRight,2), '%.')\n",
    "\n",
    "\n",
    "# b.) to the left of -0.40\n",
    "\n",
    "z = -0.40\n",
    "area = 31.08\n",
    "\n",
    "areaOutside = 100 - 31.08\n",
    "areaLeft = areaOutside / 2\n",
    "\n",
    "print('#b.) The area to the left of', z, 'is', round(areaLeft,2), '%.')\n",
    "\n",
    "\n",
    "# c.) to the left of 0.80\n",
    "\n",
    "z = 0.80\n",
    "area = 57.63\n",
    "\n",
    "areaOutside = 100 - 57.63\n",
    "areaLeft = (areaOutside / 2) + 57.63\n",
    "\n",
    "print('#c.) The area to the left of', z, 'is', round(areaLeft,2), '%.')\n",
    "\n",
    "# d.) between 0.40 and 1.30\n",
    "\n",
    "z1 = 0.40\n",
    "area1 = 31.08\n",
    "z2 = 1.30\n",
    "area2 = 80.64\n",
    "\n",
    "area1a = 31.08 / 2\n",
    "area2a = 80.64 / 2\n",
    "\n",
    "areaBetween = area2a - area1a   \n",
    "\n",
    "print('#d.) The area between', z1, 'and', z2, 'is', round(areaBetween,2), '%.')\n",
    "\n",
    "# e.) between -0.30 and 0.90\n",
    "\n",
    "z1 = -0.30\n",
    "area1 = 23.58\n",
    "z2 = 0.90\n",
    "area2 = 63.19\n",
    "\n",
    "area1a = 23.58 / 2\n",
    "area2a = 63.19 / 2\n",
    "areaBetween = area2a + area1a\n",
    "\n",
    "print('#e.) The area between', z1, 'and', z2, 'is', round(areaBetween,2), '%.')\n",
    "\n",
    "#f.) outside -1.5 to 1.5\n",
    "\n",
    "z = 1.5\n",
    "area = 86.64\n",
    "areaOutside = 100 - 86.64\n",
    "\n",
    "print('#f.) The area outside -1.5 to 1.5 is', round(areaOutside,2), '%.')"
   ]
  },
  {
   "cell_type": "markdown",
   "id": "a74fb655",
   "metadata": {},
   "source": [
    "#### #2.) Fill in the blanks"
   ]
  },
  {
   "cell_type": "code",
   "execution_count": 11,
   "id": "f8c7c631",
   "metadata": {},
   "outputs": [
    {
     "name": "stdout",
     "output_type": "stream",
     "text": [
      "a.) The area between +/- 1.00 under the normal curve is 68%.\n",
      "b.) The area between +/- 1.15 under the normal curve is 75%.\n"
     ]
    }
   ],
   "source": [
    "#a.) The area between +/- ________ under the normal curve is 68%\n",
    "\n",
    "print('a.) The area between +/- 1.00 under the normal curve is 68%.')\n",
    "\n",
    "\n",
    "#b.) The area between +/- ________ under the normal curve is 75%\n",
    "print('b.) The area between +/- 1.15 under the normal curve is 75%.')"
   ]
  },
  {
   "cell_type": "markdown",
   "id": "33c51c26",
   "metadata": {},
   "source": [
    "#### #3.)  The normal curve is sketched below; solve for z"
   ]
  },
  {
   "cell_type": "code",
   "execution_count": 12,
   "id": "cfb6780b",
   "metadata": {},
   "outputs": [
    {
     "name": "stdout",
     "output_type": "stream",
     "text": [
      "a.) z = 1.65\n",
      "b.) z = 1.29\n"
     ]
    }
   ],
   "source": [
    "print('a.) z = 1.65')\n",
    "\n",
    "print('b.) z = 1.29')"
   ]
  },
  {
   "cell_type": "markdown",
   "id": "e9f741a1",
   "metadata": {},
   "source": [
    "#### #4.) A certain curve (not the normal) is sketched below. The total area under it is 100%, and the area betwwen 0 and 1 is 39%."
   ]
  },
  {
   "cell_type": "code",
   "execution_count": 13,
   "id": "0753ceb2",
   "metadata": {},
   "outputs": [
    {
     "name": "stdout",
     "output_type": "stream",
     "text": [
      "#a.) The area to the right of 1.0 is 61 %.\n",
      "#2.) The area between 0 and 0.5 is 19.5 %.\n"
     ]
    }
   ],
   "source": [
    "#a.) If possible, find the area to the right of 1\n",
    "\n",
    "z = 1.00\n",
    "area = 39\n",
    "\n",
    "areaRight = 100 - area\n",
    "\n",
    "print('#a.) The area to the right of', z, 'is', areaRight, '%.')\n",
    "\n",
    "#### #2.) If possible, find the area between 0 and 0.5\n",
    "\n",
    "z = 0.5\n",
    "bigArea = 39\n",
    "area = bigArea/2\n",
    "\n",
    "print('#2.) The area between 0 and', z, 'is', area, '%.')"
   ]
  },
  {
   "cell_type": "code",
   "execution_count": 24,
   "id": "69f816cc",
   "metadata": {},
   "outputs": [
    {
     "name": "stdout",
     "output_type": "stream",
     "text": [
      "#a.) The area between 0 and 1 is 29.0 %.\n",
      "#b.) The area to the right of 1 is 71.0 %.\n",
      "#c.) Finding the area to the right of 2 is not possible .\n"
     ]
    }
   ],
   "source": [
    "#### #5.)  A certain curve (not the normal) is sketched belwo. It is symmetric around 0, and the total area under it is 100%. The area between -1 and 1 is 58%\n",
    "\n",
    "bigArea = 58\n",
    "\n",
    "# a.) If possible, find the area between 0 and 1\n",
    "\n",
    "z = 1\n",
    "area1 = bigArea / 2\n",
    "print('#a.) The area between 0 and', z, 'is', area1, '%.')\n",
    "\n",
    "#b.) If possible, find the area to the right of 1.\n",
    "\n",
    "z = 1\n",
    "area2 = 100 - area1\n",
    "print('#b.) The area to the right of', z, 'is', area2, '%.')\n",
    "\n",
    "#c.) If possible, find the area to the right of 2\n",
    "\n",
    "z = 2\n",
    "area3 = 'not possible'\n",
    "print('#c.) Finding the area to the right of', z, 'is', area3, '.')"
   ]
  },
  {
   "cell_type": "markdown",
   "id": "8db8fe7b",
   "metadata": {},
   "source": [
    "### Exercise Set C"
   ]
  },
  {
   "cell_type": "markdown",
   "id": "0fcba227",
   "metadata": {},
   "source": [
    "#### #1.) For the women age 18 - 24 in HANES2, the average height was about 64.3 inches; the SD was about 2.6 inches. Using the normal curve, estimate the percentage of women with heights..."
   ]
  },
  {
   "cell_type": "code",
   "execution_count": 29,
   "id": "1ee59e3a",
   "metadata": {},
   "outputs": [
    {
     "name": "stdout",
     "output_type": "stream",
     "text": [
      "a.) The z-score for 66 inches is 0.65 .\n",
      "The percent of women shorter than 66 inches is 25.79 %.\n",
      "b.) The z-score for 60 inches is -1.65 .\n"
     ]
    }
   ],
   "source": [
    "#a.) below 66 inches.\n",
    "\n",
    "SD = 2.6\n",
    "avg = 64.3\n",
    "x1 = 66\n",
    "\n",
    "z = (x1 - avg) / SD\n",
    "print('a.) The z-score for 66 inches is', round(z,2), '.')\n",
    "areaA = 48.43\n",
    "areaOutsideA = 100 - areaA\n",
    "below66 = areaOutsideA / 2\n",
    "print('The percent of women shorter than 66 inches is', round(below66,2), '%.')\n",
    "\n",
    "#b.) between 60 inches and 66 inches\n",
    "\n",
    "x2 = 60\n",
    "z2 = (x2 - avg) / SD\n",
    "print('b.) The z-score for 60 inches is', round(z2,2), '.')"
   ]
  },
  {
   "cell_type": "markdown",
   "id": "e76356e9",
   "metadata": {},
   "source": [
    "### Exercise Set F"
   ]
  },
  {
   "cell_type": "markdown",
   "id": "93278af1",
   "metadata": {},
   "source": [
    "#### #1.) A group of people have an average temperature of 98.6F, with an SD of 0.3F"
   ]
  },
  {
   "cell_type": "code",
   "execution_count": 14,
   "id": "c0dbf013",
   "metadata": {},
   "outputs": [
    {
     "name": "stdout",
     "output_type": "stream",
     "text": [
      "The average temperature in Celcius is: 36.99999999999999 and the new SD is: 0.54 .\n",
      "The temperature in Fahrenheit is: 99.05 .\n",
      "The temperature in Celcius is: 37.25 .\n"
     ]
    }
   ],
   "source": [
    "# a.)  Translate these results into Celcius\n",
    "\n",
    "AVGf = 98.6\n",
    "AVGc = ((AVGf - 32) / (9/5))\n",
    "\n",
    "SDf= 0.3\n",
    "SDc = 1.8 * SDf\n",
    "\n",
    "print('The average temperature in Celcius is:', AVGc , 'and the new SD is:', SDc,'.')\n",
    "\n",
    "\n",
    "# b.)  Someone's temperature is 1.5 SDs above the average on the Fahrenheit scale. Convert this temperature to standard units, for an investigator who is using the Celsius scale.\n",
    "\n",
    "tempF = AVGf + (1.5 * SDf)\n",
    "print('The temperature in Fahrenheit is:', tempF , '.')\n",
    "tempC = (tempF - 32) / (9/5)\n",
    "print('The temperature in Celcius is:', tempC , '.')"
   ]
  },
  {
   "cell_type": "markdown",
   "id": "d04903c7",
   "metadata": {},
   "source": []
  }
 ],
 "metadata": {
  "kernelspec": {
   "display_name": "base",
   "language": "python",
   "name": "python3"
  },
  "language_info": {
   "codemirror_mode": {
    "name": "ipython",
    "version": 3
   },
   "file_extension": ".py",
   "mimetype": "text/x-python",
   "name": "python",
   "nbconvert_exporter": "python",
   "pygments_lexer": "ipython3",
   "version": "3.9.7"
  }
 },
 "nbformat": 4,
 "nbformat_minor": 5
}
