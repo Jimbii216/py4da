{
 "cells": [
  {
   "cell_type": "markdown",
   "id": "40fccbb6",
   "metadata": {},
   "source": [
    "## This program creates a DataFrame of all batting data, categorizes, and adds to separate sheets."
   ]
  },
  {
   "cell_type": "markdown",
   "id": "76c815a7",
   "metadata": {},
   "source": [
    "#### Importing packages"
   ]
  },
  {
   "cell_type": "code",
   "execution_count": 2,
   "id": "6000f7f2",
   "metadata": {},
   "outputs": [],
   "source": [
    "import pandas as pd\n",
    "import numpy as np\n",
    "import pybaseball\n",
    "import os\n",
    "import openpyxl"
   ]
  },
  {
   "cell_type": "markdown",
   "id": "c303e2da",
   "metadata": {},
   "source": [
    "##### Setting Working Directory"
   ]
  },
  {
   "cell_type": "code",
   "execution_count": 3,
   "id": "09932c6e",
   "metadata": {},
   "outputs": [
    {
     "name": "stdout",
     "output_type": "stream",
     "text": [
      "c:\\Users\\jvgas\\OneDrive\\Desktop\\learning\\github\\baseballStatistics\\py4da\\baseballStatistics\\programs\n",
      "C:\\Users\\jvgas\\OneDrive\\Desktop\\learning\\github\\baseballStatistics\\py4da\\baseballStatistics\\datasets\n"
     ]
    }
   ],
   "source": [
    "print(os.getcwd())  # Check the current working directory\n",
    "os.chdir(\"C:\\\\Users\\\\jvgas\\\\OneDrive\\\\Desktop\\\\learning\\\\github\\\\baseballStatistics\\\\py4da\\\\baseballStatistics\\\\datasets\")  # Change the current working directory\n",
    "print(os.getcwd())  # Verify the directory change"
   ]
  },
  {
   "cell_type": "markdown",
   "id": "396c2268",
   "metadata": {},
   "source": [
    "### Creating battingData DataFrame"
   ]
  },
  {
   "cell_type": "code",
   "execution_count": 4,
   "id": "2632dee9",
   "metadata": {},
   "outputs": [],
   "source": [
    "from pybaseball import batting_stats\n",
    "battingData = batting_stats(2024,2024, qual=1)\n",
    "#battingData.to_excel('MLB Batting Data.xlsx', sheet_name = 'battingData')"
   ]
  },
  {
   "cell_type": "code",
   "execution_count": 18,
   "id": "5a197962",
   "metadata": {},
   "outputs": [
    {
     "name": "stdout",
     "output_type": "stream",
     "text": [
      "Index(['IDfg', 'Season', 'Name', 'Team', 'Age', 'G', 'AB', 'PA', 'H', '1B',\n",
      "       ...\n",
      "       'maxEV', 'HardHit', 'HardHit%', 'Events', 'CStr%', 'CSW%', 'xBA',\n",
      "       'xSLG', 'xwOBA', 'L-WAR'],\n",
      "      dtype='object', length=320)\n",
      "      IDfg  Season              Name   Team  Age    G   AB   PA    H   1B  \\\n",
      "4    15640    2024       Aaron Judge    NYY   32  158  559  704  180   85   \n",
      "13   25764    2024    Bobby Witt Jr.    KCR   24  161  636  709  211  123   \n",
      "8    19755    2024     Shohei Ohtani    LAD   29  159  636  731  197   98   \n",
      "9    20123    2024         Juan Soto    NYY   25  157  576  713  166   90   \n",
      "29   26289    2024  Gunnar Henderson    BAL   23  159  630  719  177  102   \n",
      "..     ...     ...               ...    ...  ...  ...  ...  ...  ...  ...   \n",
      "592   6887    2024  Martin Maldonado    CHW   37   48  135  147   16    9   \n",
      "605  15676    2024        Jose Abreu    HOU   37   35  113  120   14   10   \n",
      "494  20543    2024  Elehuris Montero    COL   25   67  224  247   46   32   \n",
      "544  12155    2024     Eddie Rosario  - - -   32   91  297  319   52   30   \n",
      "562  11615    2024     Brandon Drury    LAA   31   97  325  360   55   44   \n",
      "\n",
      "     ...  maxEV  HardHit  HardHit%  Events  CStr%   CSW%    xBA   xSLG  xwOBA  \\\n",
      "4    ...  117.5      238     0.609     391  0.146  0.267  0.310  0.723  0.479   \n",
      "13   ...  116.9      259     0.481     538  0.138  0.236  0.315  0.577  0.407   \n",
      "8    ...  119.2      287     0.595     482  0.144  0.269  0.314  0.660  0.442   \n",
      "9    ...  115.7      262     0.568     461  0.189  0.263  0.316  0.646  0.462   \n",
      "29   ...  113.1      256     0.539     475  0.167  0.265  0.283  0.492  0.374   \n",
      "..   ...    ...      ...       ...     ...    ...    ...    ...    ...    ...   \n",
      "592  ...  107.7       31     0.356      87  0.194  0.360  0.160  0.288  0.222   \n",
      "605  ...  109.7       28     0.326      86  0.173  0.298  0.161  0.240  0.198   \n",
      "494  ...  114.1       71     0.415     171  0.132  0.290  0.208  0.324  0.269   \n",
      "544  ...  110.2       96     0.425     226  0.146  0.281  0.211  0.340  0.257   \n",
      "562  ...  113.7       87     0.352     247  0.175  0.280  0.202  0.287  0.259   \n",
      "\n",
      "     L-WAR  \n",
      "4     11.5  \n",
      "13    10.4  \n",
      "8      9.4  \n",
      "9      8.0  \n",
      "29     8.2  \n",
      "..     ...  \n",
      "592   -1.6  \n",
      "605   -1.6  \n",
      "494   -1.9  \n",
      "544   -2.2  \n",
      "562   -2.2  \n",
      "\n",
      "[651 rows x 320 columns]\n"
     ]
    }
   ],
   "source": [
    "res = battingData.columns\n",
    "print(res)\n",
    "\n",
    "print(battingData)"
   ]
  },
  {
   "cell_type": "markdown",
   "id": "791e7d4e",
   "metadata": {},
   "source": [
    "### Creating different dictionaries for subsects of stats"
   ]
  },
  {
   "cell_type": "code",
   "execution_count": 31,
   "id": "9d2aeb1a",
   "metadata": {},
   "outputs": [],
   "source": [
    "standardStats = ['IDfg', 'Season', 'Name', 'Team', 'Age', 'G', 'AB', 'PA', 'H', '1B', '2B', '3B', 'HR', 'R', 'RBI', 'BB', 'IBB', 'SO', 'HBP', 'SF', 'SH', 'GDP', 'SB', 'CS', 'AVG']\n",
    "fantasyStats = ['IDfg', 'Season', 'Name', 'Team', 'Age', 'R', 'HR', '1B', '2B', '3B', 'H', 'BB', 'IBB', 'SO', 'SB', 'RBI']\n",
    "advancedStats = ['IDfg', 'Season', 'Name', 'Team', 'Age', 'BB%', 'K%', 'BB/K', 'AVG', 'OBP', 'SLG', 'OPS', 'ISO', 'Spd', 'BABIP','UBR', 'wGDP', 'wSB', 'wRC','wRAA', 'wOBA','wRC+']\n",
    "statcastStats = ['IDfg', 'Season', 'Name', 'Team', 'Age', 'Events', 'EV', 'maxEV', 'LA', 'Barrels', 'Barrel%', 'HardHit', 'HardHit%', 'AVG', 'xBA', 'SLG', 'xSLG', 'wOBA', 'xwOBA']\n",
    "battedBallStats = ['IDfg', 'Season', 'Name', 'Team', 'Age','GB/FB', 'LD%', 'GB%', 'FB%', 'IFFB%', 'HR/FB', 'IFH%', 'BUH%','Pull%', 'Cent%', 'Oppo%', 'Soft%', 'Med%', 'Hard%']\n",
    "moreBattedBallStats = ['IDfg', 'Season', 'Name', 'Team', 'Age','GB', 'FB', 'LD', 'IFFB', 'IFH', 'BU', 'BUH', 'Balls', 'Strikes', 'Pitches']\n",
    "winProbabilityStats = ['IDfg', 'Season', 'Name', 'Team', 'Age','WPA', '-WPA', '+WPA', 'RE24', 'REW', 'pLI', 'phLI', 'PH', 'WPA/LI', 'Clutch']\n",
    "pitchTypeVeloStats = ['IDfg', 'Season', 'Name', 'Team', 'Age', 'FA% (sc)', 'FT% (sc)', 'FC% (sc)', 'FS% (sc)', 'FO% (sc)', 'SI% (sc)', 'SL% (sc)', 'CU% (sc)', 'KC% (sc)', 'EP% (sc)', 'CH% (sc)', 'SC% (sc)', 'KN% (sc)', 'UN% (sc)', 'vFA (sc)', 'vFT (sc)', 'vFC (sc)', 'vFS (sc)', 'vFO (sc)', 'vSI (sc)', 'vSL (sc)', 'vCU (sc)', 'vKC (sc)', 'vEP (sc)', 'vCH (sc)', 'vSC (sc)', 'vKN (sc)','FA-X (sc)', 'FT-X (sc)', 'FC-X (sc)', 'FS-X (sc)', 'FO-X (sc)', 'SI-X (sc)', 'SL-X (sc)', 'CU-X (sc)', 'KC-X (sc)', 'EP-X (sc)', 'CH-X (sc)', 'SC-X (sc)', 'KN-X (sc)', 'FA-Z (sc)', 'FT-Z (sc)', 'FC-Z (sc)', 'FS-Z (sc)', 'FO-Z (sc)', 'SI-Z (sc)', 'SL-Z (sc)', 'CU-Z (sc)', 'KC-Z (sc)', 'EP-Z (sc)', 'CH-Z (sc)', 'SC-Z (sc)', 'KN-Z (sc)']\n",
    "pitchValueStats = ['IDfg', 'Season', 'Name', 'Team', 'Age','wFA (sc)', 'wFT (sc)', 'wFC (sc)', 'wFS (sc)', 'wFO (sc)', 'wSI (sc)', 'wSL (sc)', 'wCU (sc)', 'wKC (sc)', 'wEP (sc)', 'wCH (sc)', 'wSC (sc)', 'wKN (sc)', 'wFA/C (sc)', 'wFT/C (sc)', 'wFC/C (sc)', 'wFS/C (sc)', 'wFO/C (sc)', 'wSI/C (sc)', 'wSL/C (sc)', 'wCU/C (sc)', 'wKC/C (sc)', 'wEP/C (sc)', 'wCH/C (sc)', 'wSC/C (sc)', 'wKN/C (sc)']\n",
    "plateDisciplineStats = ['IDfg', 'Season', 'Name', 'Team', 'Age',  'O-Swing% (sc)', 'Z-Swing% (sc)', 'Swing% (sc)', 'O-Contact% (sc)', 'Z-Contact% (sc)', 'Contact% (sc)', 'Zone% (sc)', 'F-Strike%', 'SwStr%', 'CStr%', 'CSW%', 'Pace']\n"
   ]
  },
  {
   "cell_type": "markdown",
   "id": "84077130",
   "metadata": {},
   "source": [
    "### Creating differnt DataFrames for subsects of stats"
   ]
  },
  {
   "cell_type": "code",
   "execution_count": 32,
   "id": "d820f5d4",
   "metadata": {},
   "outputs": [],
   "source": [
    "dfStandardStats = battingData[standardStats]\n",
    "dfFantasyStats = battingData[fantasyStats]\n",
    "dfAdvancedStats = battingData[advancedStats]\n",
    "dfStatcastStats = battingData[statcastStats]\n",
    "dfBattedBallStats = battingData[battedBallStats]\n",
    "dfMoreBattedBallStats = battingData[moreBattedBallStats]\n",
    "dfWinProbabilityStats = battingData[winProbabilityStats]\n",
    "dfPitchTypeVeloStats = battingData[pitchTypeVeloStats]\n",
    "dfPitchValueStats = battingData[pitchValueStats]\n",
    "dfPlateDisciplineStats = battingData[plateDisciplineStats]"
   ]
  },
  {
   "cell_type": "markdown",
   "id": "900aa4cd",
   "metadata": {},
   "source": [
    "### Creating an excel file with different sheets of subsect of stats"
   ]
  },
  {
   "cell_type": "code",
   "execution_count": 33,
   "id": "ecc2fba4",
   "metadata": {},
   "outputs": [],
   "source": [
    "with pd.ExcelWriter('MLB Batting Data.xlsx',) as writer:  \n",
    "\n",
    "    dfStandardStats.to_excel(writer, sheet_name='standardStats')\n",
    "    dfFantasyStats.to_excel(writer, sheet_name = 'fantasyStats')\n",
    "    dfAdvancedStats.to_excel(writer, sheet_name='advancedStats')\n",
    "    dfStatcastStats.to_excel(writer, sheet_name='statcastStats')\n",
    "    dfBattedBallStats.to_excel(writer, sheet_name='battedBallStats')\n",
    "    dfMoreBattedBallStats.to_excel(writer, sheet_name='moreBattedBallStats')\n",
    "    dfWinProbabilityStats.to_excel(writer, sheet_name='winProbabilityStats')\n",
    "    dfPitchTypeVeloStats.to_excel(writer, sheet_name='pitchTypeVeloStats')\n",
    "    dfPitchValueStats.to_excel(writer, sheet_name='pitchValueStats')\n",
    "    dfPlateDisciplineStats.to_excel(writer, sheet_name='plateDisciplineStats')\n",
    "    "
   ]
  },
  {
   "cell_type": "code",
   "execution_count": null,
   "id": "e0202a36",
   "metadata": {},
   "outputs": [],
   "source": []
  }
 ],
 "metadata": {
  "kernelspec": {
   "display_name": "base",
   "language": "python",
   "name": "python3"
  },
  "language_info": {
   "codemirror_mode": {
    "name": "ipython",
    "version": 3
   },
   "file_extension": ".py",
   "mimetype": "text/x-python",
   "name": "python",
   "nbconvert_exporter": "python",
   "pygments_lexer": "ipython3",
   "version": "3.9.7"
  }
 },
 "nbformat": 4,
 "nbformat_minor": 5
}
