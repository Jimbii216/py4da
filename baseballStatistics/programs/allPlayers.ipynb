{
 "cells": [
  {
   "cell_type": "markdown",
   "metadata": {},
   "source": [
    "# This program creates an excel file of all professional baseball players"
   ]
  },
  {
   "cell_type": "markdown",
   "metadata": {},
   "source": [
    "### Importing packages"
   ]
  },
  {
   "cell_type": "code",
   "execution_count": 3,
   "metadata": {},
   "outputs": [],
   "source": [
    "import statsapi\n",
    "import pandas as pd\n",
    "import numpy as np"
   ]
  },
  {
   "cell_type": "markdown",
   "metadata": {},
   "source": [
    "## Getting Team ID List"
   ]
  },
  {
   "cell_type": "code",
   "execution_count": 2,
   "metadata": {},
   "outputs": [],
   "source": [
    "teams = statsapi.get('teams', {'sportId':1}) # gets a dict of teams from the api\n",
    "\n",
    "dfTeams = pd. DataFrame(teams) # makes a dataframe and stores the dict, 'teams,' as a dataframe\n",
    "dfTeams = pd.merge(dfTeams, dfTeams['teams'].apply(pd.Series), left_index = True, right_index = True)\n",
    "\n",
    "\n",
    "\n",
    "\n",
    "### drops the unnecessary columns ###\n",
    "\n",
    "dfTeams = dfTeams.drop(['copyright', 'teams', 'springLeague', 'allStarStatus', 'link', 'venue',\n",
    "                        'springVenue', 'locationName', 'firstYearOfPlay', 'league', 'division',\n",
    "                        'sport', 'shortName', 'franchiseName', 'clubName', 'active', 'teamCode', 'abbreviation', 'teamName', 'fileCode'], axis = 1)\n",
    "\n",
    "\n",
    "\n",
    "\n",
    "### renames and reorders columns ###\n",
    "\n",
    "dfTeams = dfTeams.rename(columns = {'id' : 'Team ID', 'name' : 'Team Name', 'season' : 'Season'})\n",
    "dfTeams = dfTeams[['Season', 'Team Name', 'Team ID']]\n",
    "\n",
    "\n",
    "\n",
    "### taking team ID columns and turning into a list ###\n",
    " \n",
    "dfTeamIDs = dfTeams['Team ID']\n",
    "teamIDs = dfTeamIDs.to_list()"
   ]
  },
  {
   "cell_type": "markdown",
   "metadata": {},
   "source": [
    "## Creating a dataframe of all players for each team\n",
    "\n",
    "I have to loop through each team manually. I have been unable, so far, to get the for loop to work."
   ]
  },
  {
   "cell_type": "code",
   "execution_count": null,
   "metadata": {},
   "outputs": [],
   "source": [
    "teamRoster = []\n",
    "\n",
    "##############################\n",
    "##############################\n",
    "####                      ####\n",
    "x = 121 # team ID number  ####\n",
    "####                      ####\n",
    "##############################\n",
    "##############################\n",
    "\n",
    "teamId = x \n",
    "df = statsapi.get(\"team_roster\", {\"teamId\": teamId, \"rosterType\": \"fullRoster\", \"hydrate\": \"person\"}) # getting a dataframe of the team roster of the corresponding team ID number\n",
    "teamRoster.append(df) # appends the the line of the df onto 'list,' teamRoster\n",
    "\n",
    "dfTeamRoster = pd.DataFrame(df) # list, 'teamRoster' coverted to dfTeamRoster\n",
    "\n",
    "dfTeamRoster = dfTeamRoster.drop(['copyright', 'link' , 'rosterType'], axis=1) # drops unnecessary columns\n",
    "\n",
    "\n",
    "\n",
    "### This section pops out each column of data and then drops the unnecessary columns ###\n",
    "\n",
    "dfTeamRoster = pd.merge(dfTeamRoster, dfTeamRoster['roster'].apply(pd.Series), left_index = True, right_index = True).drop(columns = 'roster')\n",
    "dfTeamRoster = pd.merge(dfTeamRoster, dfTeamRoster['person'].apply(pd.Series), left_index = True, right_index = True).drop(columns = 'person')\n",
    "dfTeamRoster = pd.merge(dfTeamRoster, dfTeamRoster['position'].apply(pd.Series), left_index = True, right_index = True).drop(columns = 'position')\n",
    "dfTeamRoster = pd.merge(dfTeamRoster, dfTeamRoster['pitchHand'].apply(pd.Series), left_index = True, right_index = True).drop(columns = 'pitchHand')\n",
    "dfTeamRoster = pd.merge(dfTeamRoster, dfTeamRoster['primaryPosition'].apply(pd.Series), left_index = True, right_index = True).drop(columns = 'primaryPosition')\n",
    "dfTeamRoster = dfTeamRoster.drop(['jerseyNumber', 'parentTeamId', 'status', 'fullName', 'link', 'birthDate'\n",
    "         ,'birthCity', 'birthStateProvince', 'birthCountry', 'height', 'weight'\n",
    "         ,'active', 'useName', 'useLastName', 'middleName'\n",
    "         ,'boxscoreName', 'gender', 'isPlayer', 'isVerified', 'batSide', 'nameFirstLast'\n",
    "         ,'nameSlug', 'firstLastName','lastFirstName', 'lastInitName'\n",
    "         ,'initLastName', 'fullFMLName', 'fullLFMName', 'strikeZoneTop'\n",
    "         ,'strikeZoneBottom', 'primaryNumber', 'mlbDebutDate', 'pronunciation', 'nameMatrilineal'\n",
    "         ,'code_x', 'name_x', 'type_x', 'abbreviation_x', 'code_y', 'description'\n",
    "         ,'code', 'name_y', 'type_y', 'abbreviation_y', 'draftYear', 'nickName'\n",
    "         ,'nameTitle', 'nameSuffix', 'note'], axis = 1)\n",
    "\n",
    "\n",
    "\n",
    "\n",
    "### Couldn't get the for loop to work.  Have to manually loop the teams. ###\n",
    "\n",
    "#dfAthletics = dfTeamRoster #133\n",
    "#dfPirates = dfTeamRoster #134\n",
    "#dfPadres = dfTeamRoster #135\n",
    "#dfMariners = dfTeamRoster #136\n",
    "#dfGiants = dfTeamRoster #137\n",
    "# dfCardinals = dfTeamRoster #138\n",
    "#dfRays = dfTeamRoster #139\n",
    "#dfRangers = dfTeamRoster #140\n",
    "#dfBlueJays = dfTeamRoster #141\n",
    "#dfTwins = dfTeamRoster #142\n",
    "\n",
    "#dfPhillies = dfTeamRoster #143\n",
    "#dfBraves = dfTeamRoster #144\n",
    "#dfWhiteSox = dfTeamRoster #145\n",
    "#dfMarlins = dfTeamRoster #146\n",
    "#dfYankees = dfTeamRoster #147\n",
    "#dfBrewers = dfTeamRoster #158\n",
    "#dfAngels = dfTeamRoster #108\n",
    "#dfDiamondbacks = dfTeamRoster #109\n",
    "#dfOrioles = dfTeamRoster #110\n",
    "#dfRedSox = dfTeamRoster #111\n",
    "\n",
    "#dfCubs = dfTeamRoster #112\n",
    "#dfReds = dfTeamRoster #113\n",
    "#dfGuardians = dfTeamRoster #114\n",
    "#dfRockies = dfTeamRoster #115\n",
    "#dfTigers = dfTeamRoster #116\n",
    "#dfAstros = dfTeamRoster #117\n",
    "#dfRoyals = dfTeamRoster #118\n",
    "#dfDodgers = dfTeamRoster #119\n",
    "#dfNationals = dfTeamRoster #120\n",
    "#dfMets = dfTeamRoster #121\n"
   ]
  },
  {
   "cell_type": "markdown",
   "metadata": {},
   "source": [
    "##### Checking the Validity of the team DataFrames"
   ]
  },
  {
   "cell_type": "code",
   "execution_count": null,
   "metadata": {},
   "outputs": [
    {
     "data": {
      "text/html": [
       "<div>\n",
       "<style scoped>\n",
       "    .dataframe tbody tr th:only-of-type {\n",
       "        vertical-align: middle;\n",
       "    }\n",
       "\n",
       "    .dataframe tbody tr th {\n",
       "        vertical-align: top;\n",
       "    }\n",
       "\n",
       "    .dataframe thead th {\n",
       "        text-align: right;\n",
       "    }\n",
       "</style>\n",
       "<table border=\"1\" class=\"dataframe\">\n",
       "  <thead>\n",
       "    <tr style=\"text-align: right;\">\n",
       "      <th></th>\n",
       "      <th>teamId</th>\n",
       "      <th>id</th>\n",
       "      <th>firstName</th>\n",
       "      <th>lastName</th>\n",
       "      <th>currentAge</th>\n",
       "    </tr>\n",
       "  </thead>\n",
       "  <tbody>\n",
       "    <tr>\n",
       "      <th>0</th>\n",
       "      <td>121</td>\n",
       "      <td>805999</td>\n",
       "      <td>Andrew</td>\n",
       "      <td>Ewing</td>\n",
       "      <td>20</td>\n",
       "    </tr>\n",
       "    <tr>\n",
       "      <th>1</th>\n",
       "      <td>121</td>\n",
       "      <td>621345</td>\n",
       "      <td>Alex</td>\n",
       "      <td>Minter</td>\n",
       "      <td>31</td>\n",
       "    </tr>\n",
       "    <tr>\n",
       "      <th>2</th>\n",
       "      <td>121</td>\n",
       "      <td>830464</td>\n",
       "      <td>Abner</td>\n",
       "      <td>Meza</td>\n",
       "      <td>17</td>\n",
       "    </tr>\n",
       "    <tr>\n",
       "      <th>3</th>\n",
       "      <td>121</td>\n",
       "      <td>640470</td>\n",
       "      <td>Adbert</td>\n",
       "      <td>Alzolay</td>\n",
       "      <td>30</td>\n",
       "    </tr>\n",
       "    <tr>\n",
       "      <th>4</th>\n",
       "      <td>121</td>\n",
       "      <td>827441</td>\n",
       "      <td>Adolfo</td>\n",
       "      <td>Miranda</td>\n",
       "      <td>18</td>\n",
       "    </tr>\n",
       "    <tr>\n",
       "      <th>...</th>\n",
       "      <td>...</td>\n",
       "      <td>...</td>\n",
       "      <td>...</td>\n",
       "      <td>...</td>\n",
       "      <td>...</td>\n",
       "    </tr>\n",
       "    <tr>\n",
       "      <th>263</th>\n",
       "      <td>121</td>\n",
       "      <td>815898</td>\n",
       "      <td>Yovanny</td>\n",
       "      <td>Rodriguez</td>\n",
       "      <td>18</td>\n",
       "    </tr>\n",
       "    <tr>\n",
       "      <th>264</th>\n",
       "      <td>121</td>\n",
       "      <td>807848</td>\n",
       "      <td>Yuhi</td>\n",
       "      <td>Sako</td>\n",
       "      <td>25</td>\n",
       "    </tr>\n",
       "    <tr>\n",
       "      <th>265</th>\n",
       "      <td>121</td>\n",
       "      <td>825159</td>\n",
       "      <td>Yunior</td>\n",
       "      <td>Amparo</td>\n",
       "      <td>18</td>\n",
       "    </tr>\n",
       "    <tr>\n",
       "      <th>266</th>\n",
       "      <td>121</td>\n",
       "      <td>804267</td>\n",
       "      <td>Zachary</td>\n",
       "      <td>Thornton</td>\n",
       "      <td>23</td>\n",
       "    </tr>\n",
       "    <tr>\n",
       "      <th>267</th>\n",
       "      <td>121</td>\n",
       "      <td>676199</td>\n",
       "      <td>Zebulon</td>\n",
       "      <td>Vermillion</td>\n",
       "      <td>26</td>\n",
       "    </tr>\n",
       "  </tbody>\n",
       "</table>\n",
       "<p>268 rows × 5 columns</p>\n",
       "</div>"
      ],
      "text/plain": [
       "     teamId      id firstName    lastName  currentAge\n",
       "0       121  805999    Andrew       Ewing          20\n",
       "1       121  621345      Alex      Minter          31\n",
       "2       121  830464     Abner        Meza          17\n",
       "3       121  640470    Adbert     Alzolay          30\n",
       "4       121  827441    Adolfo     Miranda          18\n",
       "..      ...     ...       ...         ...         ...\n",
       "263     121  815898   Yovanny   Rodriguez          18\n",
       "264     121  807848      Yuhi        Sako          25\n",
       "265     121  825159    Yunior      Amparo          18\n",
       "266     121  804267   Zachary    Thornton          23\n",
       "267     121  676199   Zebulon  Vermillion          26\n",
       "\n",
       "[268 rows x 5 columns]"
      ]
     },
     "execution_count": 63,
     "metadata": {},
     "output_type": "execute_result"
    }
   ],
   "source": [
    "#dfAthletics\n",
    "#dfPirates\n",
    "#dfPadres\n",
    "#dfMariners\n",
    "#dfGiants\n",
    "#dfCardinals\n",
    "#dfRays\n",
    "#dfRangers\n",
    "#dfBlueJays\n",
    "#dfTwins\n",
    "\n",
    "#dfPhillies\n",
    "#dfBraves\n",
    "#dfWhiteSox\n",
    "#dfMarlins\n",
    "#dfYankees\n",
    "#dfBrewers\n",
    "#dfAngels\n",
    "#dfDiamondbacks\n",
    "#dfOrioles\n",
    "#dfRedSox\n",
    "\n",
    "#dfCubs\n",
    "#dfReds\n",
    "#dfGuardians\n",
    "#dfRockies \n",
    "#dfTigers\n",
    "#dfAstros\n",
    "#dfRoyals\n",
    "#dfDodgers\n",
    "#dfNationals\n",
    "#dfMets"
   ]
  },
  {
   "cell_type": "markdown",
   "metadata": {},
   "source": [
    "#### Dropping leftover columns "
   ]
  },
  {
   "cell_type": "code",
   "execution_count": null,
   "metadata": {},
   "outputs": [],
   "source": [
    "dfMariners = dfMariners.drop(['lastPlayedDate'], axis = 1)\n",
    "dfGiants = dfGiants.drop(['lastPlayedDate'], axis = 1)\n",
    "dfDodgers = dfDodgers.drop(['lastPlayedDate'], axis = 1)"
   ]
  },
  {
   "cell_type": "markdown",
   "metadata": {},
   "source": [
    "## Joining all the teamRoster dataframes"
   ]
  },
  {
   "cell_type": "code",
   "execution_count": 65,
   "metadata": {},
   "outputs": [],
   "source": [
    "frames = [dfAthletics, dfPirates, dfPadres, dfMariners, dfGiants, dfCardinals\n",
    "          , dfRays, dfRangers, dfBlueJays, dfTwins, dfPhillies, dfBraves, dfWhiteSox\n",
    "          , dfMarlins, dfYankees, dfBrewers, dfAngels, dfDiamondbacks, dfOrioles\n",
    "          , dfRedSox, dfCubs, dfReds, dfGuardians, dfRockies, dfTigers, dfAstros\n",
    "          , dfRoyals, dfDodgers, dfNationals, dfMets]\n",
    "\n",
    "dfAllTeamRosters = pd.concat(frames)\n",
    "\n",
    "### Renaming and Reordering the Columns ###\n",
    "\n",
    "\n",
    "dfAllTeamRosters.rename(columns={'teamId': 'Team ID', 'id' : 'Player ID', 'firstName': 'First Name', 'lastName': 'Last Name', 'currentAge' : 'Age'}, inplace=True)\n",
    "allPlayers = dfAllTeamRosters[['Player ID', 'Team ID', 'First Name', 'Last Name', 'Age']]"
   ]
  },
  {
   "cell_type": "markdown",
   "metadata": {},
   "source": [
    "## Save as excel"
   ]
  },
  {
   "cell_type": "markdown",
   "metadata": {},
   "source": [
    "#### Set WD"
   ]
  },
  {
   "cell_type": "code",
   "execution_count": null,
   "metadata": {},
   "outputs": [
    {
     "name": "stdout",
     "output_type": "stream",
     "text": [
      "c:\\Users\\jvgas\\OneDrive\\Desktop\\learning\\github\\baseballStatistics\\py4da\\baseballStatistics\\histograms\n",
      "C:\\Users\\jvgas\\OneDrive\\Desktop\\learning\\github\\baseballStatistics\\py4da\\baseballStatistics\\datasets\n"
     ]
    }
   ],
   "source": [
    "import os\n",
    "import openpyxl \n",
    "\n",
    "print(os.getcwd())  # Check the current working directory\n",
    "os.chdir(\"C:\\\\Users\\\\jvgas\\\\OneDrive\\\\Desktop\\\\learning\\\\github\\\\baseballStatistics\\\\py4da\\\\baseballStatistics\\\\datasets\")  # Change the current working directory\n",
    "print(os.getcwd())  # Verify the directory change"
   ]
  },
  {
   "cell_type": "markdown",
   "metadata": {},
   "source": [
    "### Saving to excel sheet"
   ]
  },
  {
   "cell_type": "code",
   "execution_count": 70,
   "metadata": {},
   "outputs": [],
   "source": [
    "allPlayers.to_excel('All MLB Players.xlsx', sheet_name='allPlayers')"
   ]
  }
 ],
 "metadata": {
  "kernelspec": {
   "display_name": "base",
   "language": "python",
   "name": "python3"
  },
  "language_info": {
   "codemirror_mode": {
    "name": "ipython",
    "version": 3
   },
   "file_extension": ".py",
   "mimetype": "text/x-python",
   "name": "python",
   "nbconvert_exporter": "python",
   "pygments_lexer": "ipython3",
   "version": "3.9.7"
  }
 },
 "nbformat": 4,
 "nbformat_minor": 2
}
