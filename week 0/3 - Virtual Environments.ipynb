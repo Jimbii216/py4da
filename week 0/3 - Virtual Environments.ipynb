{
 "cells": [
  {
   "attachments": {},
   "cell_type": "markdown",
   "metadata": {},
   "source": [
    "# Virtual Environments\n",
    "\n",
    "In this section we willl cover virtual environments and how to use them as part of your standard data anlysis workflow. Anytime you create a new project, your first two steps should be to create a **git repository** and a **virtual environment**. \n",
    "\n",
    "By the end of this section you will be able to:\n",
    "    * Understand why environments are important\n",
    "    * Explain how environments isolate your code environment\n",
    "    * Create new virtual environments for your projects\n",
    "    * Use `venv` to manage your Python environments\n",
    "    * Make your environment reusable for others\n",
    "\n",
    "\n",
    "This section uses the `venv` module to manage virtual environments. While this is the officially recommended way to manage environments in Python it's not the only one. [Conda]() is an alternative way to manage environments that is frequently used by the data science community. While this tutorial does not lay out the differences between the two, you should determine whether conda or venv will be a better fit for your needs."
   ]
  },
  {
   "cell_type": "markdown",
   "metadata": {},
   "source": [
    "## Installing `virtualenv`\n",
    "\n",
    "Most python releases will come with the `pip` and `venv` modules already installed. However, in order to confirm this, you should follow [this guide](https://packaging.python.org/en/latest/guides/installing-using-pip-and-virtual-environments/) to ensure you have `venv` properly configured on your machine."
   ]
  },
  {
   "attachments": {},
   "cell_type": "markdown",
   "metadata": {},
   "source": [
    "## What is a Virtual Environment?"
   ]
  },
  {
   "attachments": {},
   "cell_type": "markdown",
   "metadata": {},
   "source": [
    "Virtual environments are a common technique to isolate programs to make code portable, repeatable, easier to maintain. A virtual environment will contain an installation of Python and all of the necessary packages to run the code in your project. This has a number of benefits:\n",
    "\n",
    "    * It isolates your programs\n",
    "    * It is easier to manage dependencies in your program\n",
    "    * It makes your code repeatable by other programmers\n",
    "\n",
    "### Isolation\n",
    "\n",
    "When you install Python, a global version is created and any packages you install will be bound to that version of Python. Because various packages are constantly being updated as well as Python itself, it become challenging to ensure all of your packages are compatible with one another and with your current installation of Python. \n",
    "\n",
    "For example, suppose in March of 2019 you wrote some code that used Python3.7 and Pandas 1.6 and never touched that code again. If you continued to upgrade Python and Pandas regularly, you may return to this project in 2023 to find the code unusable. You could downgrade your Python and Pandas versions, however this may render your more recent projects unusable. Virtual environments help avoid this problem by giving each project it's own Python installation as well as its own library of packages. This means you could return to your project from 2019, activate its virtual environment and use the version of Python and Pandas you installed 4 years ago. \n",
    "\n",
    "### Portability\n",
    "\n",
    "If you want to share your code with others it is important that it works! One of the most common issues when sharing code is that code that runs on one programmer's machine may not run on another's machine. This is often due to not specifying the correct environment specifications when you ship your code. Virtual environments allow you to document the environment in which your code was run and share those requirements with others. This way when you share your code as a repository, other programmers can install the correct versions of Python packages and any dependencies that may be required."
   ]
  },
  {
   "cell_type": "markdown",
   "metadata": {},
   "source": [
    "## How to use `virtualenv`\n",
    "\n",
    "Depending on your operating system these guidelines may differ slightly, however the general workflow will be the same.\n",
    "\n",
    "Upon starting a project you should always initialize a virtual environment within your working directory. For example suppose we are creating a project called \"new_project\". We would create a directory for this project and initialize the virtual environment within this folder. \n",
    "\n",
    "*Note: You can name your virtual environment whatever you want, however in practive most people just use venv for simplicity*\n",
    "\n",
    "```{bash}\n",
    "cd ~/Projects/new_project\n",
    "python3 -m venv venv\n",
    "```\n",
    "\n",
    "You should then see a folder called `venv` within your `new_project` directory.\n",
    "\n",
    "```\n",
    ".\n",
    "└── venv\n",
    "    ├── bin\n",
    "    ├── include\n",
    "    ├── lib\n",
    "    └── pyvenv.cfg\n",
    "```\n",
    "The `venv` folder contains a few subdirectories. You will almost never need to modify the contents of `venv` directly. However, it is good to know that the `bin` folder contains your binaries, or executable files (which includes your Python installation) and the `lib` folder contains your library of installed packages. \n",
    "\n",
    "### Activating your virtual environment\n",
    "\n",
    "Once you have created your virtual environment within your working directory you can activate it using the command\n",
    "\n",
    "`source venv/bin/activate`\n",
    "\n",
    "or on Windows\n",
    "\n",
    "`venv/Scripts/activate`\n",
    "\n",
    "You should notice your command line has changed to include `(venv)`. This lets you know you have successfully activated the environment.\n",
    "\n",
    "Now, whenever you install a package using `pip` it will install directly into the `lib` folder and when you run `python` it will use the installation of python in your virtual environment, rather than your global version of python.\n",
    "\n",
    "To deactivate your virtual environment type `deactivate`.\n",
    "\n",
    "## Using a virtualenvironment for this course\n",
    "\n",
    "Once you have the hang of creating and initializing virtualenvironments, be sure to create a virtualenvironment in the main directory of this repository. We'll be downloading a number of packages in the coming chapters. "
   ]
  }
 ],
 "metadata": {
  "language_info": {
   "name": "python"
  },
  "orig_nbformat": 4
 },
 "nbformat": 4,
 "nbformat_minor": 2
}
