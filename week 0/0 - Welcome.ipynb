{
 "cells": [
  {
   "attachments": {},
   "cell_type": "markdown",
   "metadata": {},
   "source": [
    "# Python For Data Analysis\n",
    "\n",
    "Welcome! In this mini course we will cover the basics of leveraging Python for data anlysis. There will be guided tutorials as well as exercises that will guide you through not only how to do basic to intermediate data analysis but also how to properly structure your data analysis projects for reproducibility, organization, and (most importantly) your own sanity.\n",
    "\n",
    "\n",
    "\n",
    "Important setup steps:\n",
    "\n",
    "  - Download a Python IDE (we recommend [VSCode](https://code.visualstudio.com/download))\n",
    "    - An IDE will make your programming life much easier. Good IDEs will offer code completion, error highlighting, debugging tools, and customizations to imporove your efficiency\n",
    "    - If you are accustomed to using Jupyter Notebooks we recommend installing VSCode and using the Jupyter Notebook extension that is available.\n",
    "  - Download Python (see section 0.1)\n",
    "  - Download `virtualenv` (see section 0.3)\n",
    "  - Download `git` (see [this guide](https://git-scm.com/downloads))\n"
   ]
  }
 ],
 "metadata": {
  "language_info": {
   "name": "python"
  },
  "orig_nbformat": 4
 },
 "nbformat": 4,
 "nbformat_minor": 2
}
