{
 "cells": [
  {
   "attachments": {},
   "cell_type": "markdown",
   "metadata": {},
   "source": [
    "# What is Python?\n",
    "\n",
    "I think it is wise to start with the definition [python.org](https://www.python.org/doc/essays/blurb/) set out for themself:\n",
    "\n",
    "> *Python is an interpreted, object-oriented, high-level programming language with dynamic semantics. Its high-level built in data structures, combined with dynamic typing and dynamic binding, make it very attractive for Rapid Application Development, as well as for use as a scripting or glue language to connect existing components together. Python's simple, easy to learn syntax emphasizes readability and therefore reduces the cost of program maintenance. Python supports modules and packages, which encourages program modularity and code reuse.*\n",
    "\n",
    "Let's break some of these components of Python down, to understand it better.\n",
    "\n",
    "## Interpreted\n",
    "\n",
    "## Compiled Programming Languages\n",
    "\n",
    "Interpreted languages are best understood in comparison to their counter-part, compiled lagnuages. With a compiled language you write all of the code, then this code is sent to a compiler. The compiler then converts your code into machine code (ie binary or hexidecimal code) which a computer can read directly. C, C++, FORTRAN, Go, Haskell, Swift, and Rust are all examples of compiled languages. After sending your source code to the compiler, the compiler will spit out what is called an executable file which represents the program a user can run. The compiler will create an executable file which can be run only on the system which is was developed on.\n",
    "\n",
    "Interpreted langiuages take a different approach. Instead of relying on a compiler, code wirtten in these languages can be executed directly by an Interpreter. Interpreters take in source code line-by-line at run-time and translate it to some intermediate representation which can be directly executed. Python, Perl, Ruby, R, and MATLAB are all examples of intepreted languages. In fact, the interpreters for these languages are almost all written in compiled languages (often C). When you run `python` in your terminal or PowerShell you are runnning the Python interpreter `CPython`. The interpreter allows you to run Python in *interactive mode*. This measn you can execute your code line by line without having to send an entire file to be compiled in order to run.\n",
    "\n",
    "Because compiled code is translated directly into code that is readable by the CPU, compiled code is often significantly faster and more performant than interpreted code. Interpreted code must be translated at run-time, resulting in an additional step for each operation. However, in recent years the performance difference between compiled and interpreted alnguages is shrinking as new technologies such as [Just-In-Time]() compilers emerge. These languages aim to combine the ease of use of Interpreted langiuages with the performance of compiled languages.\n",
    "\n",
    "Throughout this course we will highlight aspects of Python's interpreter that result in Python code being particularly slow. Using libraries that are written natively in C, like `numpy` we will show how we can adda performance boost to our code. Knowing how your Python code is being executed is a major tool to allow you to leverage the most performant aspects of the lamguage so you can write cleaner, more efficient code.\n",
    "\n",
    "#### A note on Java\n",
    "\n",
    "Many programmers will be familiar with the programming language Java which is not listed here as either a compiled nor interpreted language. In practice it is a compiled language, but rather than get compiled directly to an executable, it is compiled to something called bytecode. The Java Virtual Machine then directly converts the bytecode to an executable. This allows the bytecode to be platform (Linux/Unix/Windows) agnostic, meaning it can be transported across systems and run on any machine regardless of the operating system as long as it supports the Java Virtual Machine\n",
    "\n",
    "\n",
    "## High-Level\n",
    "\n",
    "High-level refers to programming languages which are abstracted from the core functionality of the computer. These lamguages allow the programmer to interact with the computer system without having to directly write machine code, which is extremely difficult for humans to write, interpret, and debug. All high-level languages require some level of translation to machine code, typically via a compiler or interpreter. \n",
    "\n",
    "High-level languages use words and syntax  that are easy for humans to work with, like `print`, `for`, `if`, `else`, `do`, and `while`.\n",
    "\n",
    "Note that there may be a gradient here with some high-level languages being \"higher level\" than others depending on how much abstraction is provided. Python developers may refer to C or Fortran as lower-level languages, while computer programmers who are accustomed to writing Assembly language would consider C a high-level language and Python an even higher-level language. \n",
    "\n",
    "\n",
    "## Object Oriented\n",
    "\n",
    "Object Oriented Programming (OOP) is a programming paradigm which emphasizes objects and data rather than functions and logical scripting. It focuses on designing objects to be manipulated and binding methods and data to these objects rather than constructing logic around the objects. This technique can be very effective for large complex programs.\n",
    "\n",
    "This is in contrast to Functional Programming which aims to structure programs like recipes where the program flows logically from step to step with user defined functions in between. This technique is useful for simple programs that do not require many components and can be good for quick prototyping,\n",
    "\n",
    "Python can be used as both an OOP language as well as a Functional language. We will explore both uses of Python in this course."
   ]
  }
 ],
 "metadata": {
  "kernelspec": {
   "display_name": "Python 3",
   "language": "python",
   "name": "python3"
  },
  "language_info": {
   "codemirror_mode": {
    "name": "ipython",
    "version": 3
   },
   "file_extension": ".py",
   "mimetype": "text/x-python",
   "name": "python",
   "nbconvert_exporter": "python",
   "pygments_lexer": "ipython3",
   "version": "3.9.6"
  },
  "orig_nbformat": 4
 },
 "nbformat": 4,
 "nbformat_minor": 2
}
