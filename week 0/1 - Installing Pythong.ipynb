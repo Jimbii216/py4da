{
 "cells": [
  {
   "attachments": {},
   "cell_type": "markdown",
   "metadata": {},
   "source": [
    "# Installing Python\n",
    "\n",
    "*This course is writted using Python 3.9. When possible, any differences with newer Python versions will be noted*\n",
    "\n",
    "Installing Python is generally pretty easy. Often, Linux and other UNIX distributions will include a Python version in their base. However, it is generally recommended to install a version directly to ensure you have the most up-to-date version or the version that best suits your needs. \n",
    "\n",
    "Currently, Python is up to version 3.11.4. There are major differences between Python2 and Python3 and Python2 is no longer supported by the Python Core Team, so if you choose to use your system's built-in version of Python you should ensure that it is using at least a version of Python3 and not Python2. Within the minor releases, it is recommended you use at least Python 3.8. \n",
    "\n",
    "> Note: when choosing which version to download, you should opt for a **stable** release\n",
    "\n",
    "Visit [the Python site](https://www.python.org/downloads/) to get started installing Python. Once you have Python installed, keep reading.\n",
    "\n",
    "If installing on Windows, be sure to read [Using Python on Windows](https://docs.python.org/3/using/windows.html#using-on-windows)"
   ]
  }
 ],
 "metadata": {
  "kernelspec": {
   "display_name": "Python 3",
   "language": "python",
   "name": "python3"
  },
  "language_info": {
   "codemirror_mode": {
    "name": "ipython",
    "version": 3
   },
   "file_extension": ".py",
   "mimetype": "text/x-python",
   "name": "python",
   "nbconvert_exporter": "python",
   "pygments_lexer": "ipython3",
   "version": "3.9.6"
  },
  "orig_nbformat": 4
 },
 "nbformat": 4,
 "nbformat_minor": 2
}
